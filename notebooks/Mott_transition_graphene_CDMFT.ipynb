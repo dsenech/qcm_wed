{
 "cells": [
  {
   "cell_type": "markdown",
   "metadata": {},
   "source": [
    "# CDMFT and the Mott transition in graphene\n",
    "\n",
    "- Construct a model file (python) that describes graphene, based on a single, two-site cluster with a bath of 4 sites, similar to the one used for the one-dimensional Hubbard model done in the examples provided with the pyqcm distribution.\n",
    "Check that the correct dispersion relation is found at $U=0$ by plotting the spectral function.\n",
    "- At half filling, find de CDMFT solution (normal state) as a function of $U$, from $U=10$ to $U=0$ in steps of $\\Delta U=0.2$. Can you identify the Mott transition? Stay at half-filling, using particle-hole symmetry."
   ]
  },
  {
   "cell_type": "code",
   "execution_count": null,
   "metadata": {},
   "outputs": [],
   "source": [
    "from pyqcm import *\n",
    "# from scipy import *\n",
    "from pyqcm.spectral import *\n",
    "from pyqcm.cdmft import *\n",
    "from pyqcm.loop import controlled_loop\n",
    "import numpy as np\n",
    "from pyqcm.draw_operator import *\n",
    "import os\n",
    "\n",
    "import matplotlib.pyplot as plt\n",
    "import matplotlib as mpl"
   ]
  },
  {
   "cell_type": "code",
   "execution_count": null,
   "metadata": {},
   "outputs": [],
   "source": [
    "# Constructing a new cluster model\n",
    "ns = 2 # number of physical sites\n",
    "nb = 4 # number of bath sites\n",
    "no = ns+nb # total number of sites\n",
    "new_cluster_model('clus', ns, nb)"
   ]
  },
  {
   "cell_type": "markdown",
   "metadata": {},
   "source": [
    "### Geometry used to model graphene\n",
    "\n",
    "For the lattice to be a Bravais lattice, we can, for example, pair the adjacent carbons two-by-two which will result in a scissorgrid Bravais lattice. In this case, since we are running a CDMFT procedure, we need to define 4 *bath* orbitals around the 2 site cluster and pair them up as to represent the presence of neighbouring clusters. \n",
    "\n",
    "The hopping operators to and from the bath sites are the \"tb1\" and \"tb2\" operators while the respective energy level of the orbitals are \"eb1\" and \"eb2\"."
   ]
  },
  {
   "cell_type": "code",
   "execution_count": null,
   "metadata": {},
   "outputs": [],
   "source": [
    "# Defining the bath hopping operators\n",
    "new_cluster_operator('clus', 'tb1', 'one-body', [\n",
    "    (1, 3, -1.0),\n",
    "    (2, 4, -1.0),\n",
    "    (1+no, 3+no, -1.0),\n",
    "    (2+no, 4+no, -1.0)\n",
    "]) # note that the last two entries pertain to the SPIN DOWN part of the operator\n",
    "\n",
    "new_cluster_operator('clus', 'tb2', 'one-body', [\n",
    "    (1, 5, -1.0),\n",
    "    (2, 6, -1.0),\n",
    "    (1+no, 5+no, -1.0),\n",
    "    (2+no, 6+no, -1.0)\n",
    "])\n",
    "\n",
    "# Defining the 'orbital energy' of the baths\n",
    "new_cluster_operator('clus', 'eb1', 'one-body', [\n",
    "    (3, 3, 1.0),\n",
    "    (4, 4, 1.0),\n",
    "    (3+no, 3+no, 1.0),\n",
    "    (4+no, 4+no, 1.0)\n",
    "])\n",
    "\n",
    "new_cluster_operator('clus', 'eb2', 'one-body', [\n",
    "    (5, 5, 1.0),\n",
    "    (6, 6, 1.0),\n",
    "    (5+no, 5+no, 1.0),\n",
    "    (6+no, 6+no, 1.0)\n",
    "])"
   ]
  },
  {
   "cell_type": "code",
   "execution_count": null,
   "metadata": {},
   "outputs": [],
   "source": [
    "add_cluster('clus', [0,0,0], [[0,0,0], [1,0,0]]) # Adding the cluster in\n",
    "lattice_model('Graphene_2', [[1,-1,0], [2,1,0]], [[1,-1,0], [2,1,0]]) # Tiling like an old scissorgrid elevator\n",
    "set_basis([[1,0,0],[-0.5,np.sqrt(3)/2,0]]) # Classic Graphene basis (for simplicity and graphical purposes)"
   ]
  },
  {
   "cell_type": "code",
   "execution_count": null,
   "metadata": {},
   "outputs": [],
   "source": [
    "# Defining the interaction operator on BOTH bands\n",
    "interaction_operator('U', band1=1, band2=1)\n",
    "interaction_operator('U', band1=2, band2=2)\n",
    "\n",
    "# Defining NN hopping terms\n",
    "hopping_operator('t', [1,0,0], -1, band1=1, band2=2) # All hops here are from one band to another\n",
    "hopping_operator('t', [0,1,0], -1, band1=1, band2=2)\n",
    "hopping_operator('t', [-1,-1,0], -1, band1=1, band2=2)"
   ]
  },
  {
   "cell_type": "code",
   "execution_count": null,
   "metadata": {},
   "outputs": [],
   "source": [
    "draw_cluster_operator('clus', 'tb2')\n",
    "draw_operator('t', show_neighbors=True)"
   ]
  },
  {
   "cell_type": "code",
   "execution_count": null,
   "metadata": {},
   "outputs": [],
   "source": [
    "# Imposing half-filling at 6 particles in cluster + bath sites and setting total spin to 0\n",
    "set_target_sectors(['R0:N6:S0'])\n",
    "\n",
    "# Simulation parameters\n",
    "set_parameters(\"\"\"\n",
    "    U=4\n",
    "    mu=0.5*U\n",
    "    t=1\n",
    "    tb1_1=0.5\n",
    "    tb2_1=1*tb1_1\n",
    "    eb1_1=1.0\n",
    "    eb2_1=-1.0*eb1_1\n",
    "\"\"\")"
   ]
  },
  {
   "cell_type": "markdown",
   "metadata": {},
   "source": [
    "### Spectral function of graphene (U=0)\n",
    "As can be seen below, the typical graphene spectral function is obtained. "
   ]
  },
  {
   "cell_type": "code",
   "execution_count": null,
   "metadata": {},
   "outputs": [],
   "source": [
    "# Setting a trivially small interaction value\n",
    "set_parameter(\"U\", 1e-9)\n",
    "new_model_instance()\n",
    "\n",
    "# Plotting the spectral function, both bands are identical\n",
    "spectral_function(path=\"graphene\", band=1) # Using the built-in graphene path is recommended here"
   ]
  },
  {
   "cell_type": "code",
   "execution_count": null,
   "metadata": {},
   "outputs": [],
   "source": [
    "# Setting up the range of values of U over which to loop the CDMFT simulation \n",
    "U_start = 0.2 # starting at U=0.2 because the nearly non-interacting case is too long to calculate\n",
    "U_stop = 10.1\n",
    "U_step = 0.2"
   ]
  },
  {
   "cell_type": "code",
   "execution_count": null,
   "metadata": {},
   "outputs": [],
   "source": [
    "# Removes the default output file for display purposes\n",
    "if os.path.isfile(\"./cdmft.tsv\"):\n",
    "    os.remove(\"./cdmft.tsv\")"
   ]
  },
  {
   "cell_type": "code",
   "execution_count": null,
   "metadata": {},
   "outputs": [],
   "source": [
    "# Defining a function that will run a cdmft procedure within controlled_loop()\n",
    "\n",
    "def run_cdmft():\n",
    "    U = parameters()['U']\n",
    "    cdmft(varia=[\"tb1_1\", \"eb1_1\"], wc=10, grid_type='self', beta=50) # setting the bath operators as the variationnal parameters\n",
    "\n",
    "# Looping over values of U\n",
    "controlled_loop(\n",
    "    func=run_cdmft, \n",
    "    varia=[\"tb1_1\", \"eb1_1\"], \n",
    "    loop_param=\"U\", \n",
    "    loop_range=(U_start, U_stop, U_step)\n",
    "    )"
   ]
  },
  {
   "cell_type": "code",
   "execution_count": null,
   "metadata": {},
   "outputs": [],
   "source": [
    "cdmft_data = np.genfromtxt(\"cdmft.tsv\", delimiter=\"\\t\", names=True)\n",
    "\n",
    "# plotting both orbital energies and site<-->bath hopping operator amplitude\n",
    "ax1 = plt.subplot(211)\n",
    "ax1.plot(cdmft_data['U'], cdmft_data['eb1_1'], \"o\", markersize=2, label=\"eb1_1\")\n",
    "\n",
    "ax1.set_ylabel(\"$\\epsilon$\")\n",
    "\n",
    "ax1.legend()\n",
    "\n",
    "ax2 = plt.subplot(212, sharex=ax1)\n",
    "ax2.plot(cdmft_data['U'], cdmft_data['tb1_1'], \"o\", markersize=2, label=\"tb1_1\")\n",
    "\n",
    "ax2.set_xlabel(\"U\")\n",
    "ax2.set_ylabel(\"t\")\n",
    "\n",
    "ax2.legend()\n",
    "\n",
    "plt.show()"
   ]
  },
  {
   "cell_type": "markdown",
   "metadata": {},
   "source": [
    "### Interpretation and Mott transition\n",
    "\n",
    "From the above plots, we can see how the orbital energies and the hopping operators defined for the bath sites seem to change drastically as to indicate a Mott transition at $U\\approx5$. By plotting the spectral function for $U$ values of 4, 5 and 6, we can see how this transition effects the spectral gap. "
   ]
  },
  {
   "cell_type": "code",
   "execution_count": null,
   "metadata": {},
   "outputs": [],
   "source": [
    "index_of_U = np.where(cdmft_data['U'] == 4)[0][0] # Finding the index at which U=4\n",
    "print(index_of_U)\n",
    "set_params_from_file('cdmft.tsv', n=index_of_U)\n",
    "new_model_instance()\n",
    "spectral_function(path=\"graphene\", band=1) \n",
    "\n",
    "index_of_U = np.where(cdmft_data['U'] == 5)[0][0] # Finding the index at which U=4\n",
    "set_params_from_file('cdmft.tsv', n=index_of_U)\n",
    "new_model_instance()\n",
    "spectral_function(path=\"graphene\", band=1) \n",
    "\n",
    "index_of_U = np.where(cdmft_data['U'] == 6)[0][0] # Finding the index at which U=4\n",
    "set_params_from_file('cdmft.tsv', n=index_of_U)\n",
    "new_model_instance()\n",
    "spectral_function(path=\"graphene\", band=1) "
   ]
  }
 ],
 "metadata": {
  "interpreter": {
   "hash": "d83c2c4acc6798d77f2d508a6925927a980aed8f1b879892c5701a8ab2ff850e"
  },
  "kernelspec": {
   "display_name": "Python 3.9.9 64-bit ('base': conda)",
   "language": "python",
   "name": "python3"
  },
  "language_info": {
   "codemirror_mode": {
    "name": "ipython",
    "version": 3
   },
   "file_extension": ".py",
   "mimetype": "text/x-python",
   "name": "python",
   "nbconvert_exporter": "python",
   "pygments_lexer": "ipython3",
   "version": "3.9.10"
  },
  "orig_nbformat": 4
 },
 "nbformat": 4,
 "nbformat_minor": 2
}
