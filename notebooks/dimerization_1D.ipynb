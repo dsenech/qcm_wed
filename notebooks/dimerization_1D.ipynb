{
 "cells": [
  {
   "cell_type": "markdown",
   "metadata": {},
   "source": [
    "# Dimerization in a 1D lattice\n",
    "\n",
    "Construct the model (in a .py file) representing a one-dimensional Hubbard model with dimerization. The hopping terms are between nearest neighbors only, but they alternate between the value $t$ and the value $t'$.\n",
    "Plot the spectral function for the case $t=1.1$ and $t'=0.9$, at $U=0$ and then $U=4$, at half-filling.\n",
    "Compare the $U=0$ case with the analytic solution to the problem."
   ]
  },
  {
   "cell_type": "code",
   "execution_count": null,
   "metadata": {},
   "outputs": [],
   "source": [
    "from pyqcm import *\n",
    "from pyqcm.spectral import *\n",
    "from pyqcm.draw_operator import * # To be able to look at the actions of the operators\n",
    "import numpy as np\n",
    "\n",
    "import matplotlib.pyplot as plt\n",
    "import matplotlib as mpl"
   ]
  },
  {
   "cell_type": "code",
   "execution_count": null,
   "metadata": {},
   "outputs": [],
   "source": [
    "# Defining a simple 1D chain arranged in clusters of two sites\n",
    "new_cluster_model('clus', 2, 0)  # Creating a new cluster with two sites\n",
    "add_cluster('clus', [0,0,0], [[0,0,0], [1,0,0]]) # Specifying the geometry of the cluster (two sites in a horizontal row)\n",
    "lattice_model('1D_4', [[2,0,0]], [[2,0,0]]) # Defining the appropriate super-lattice\n",
    "set_basis([[0.5,0,0]]) # This allows for the proper Brillouin zone in the plots\n",
    "\n",
    "# Creating a LOCAL interaction operator for each band\n",
    "interaction_operator('U', band1=1, band2=1)\n",
    "interaction_operator('U', band1=2, band2=2)\n",
    "\n",
    "hopping_operator('t', [1,0,0], -1, band1=1, band2=2) # Hopping between sites of the dimer\n",
    "hopping_operator('tp', [1,0,0], -1, band1=2, band2=1) # Hopping between dimers (AKA clusters)\n",
    "\n",
    "draw_operator(\"t\") # intra-cluster hopping\n",
    "draw_operator(\"tp\") # inter-cluster hopping, notice how there is no displayed link!"
   ]
  },
  {
   "cell_type": "code",
   "execution_count": null,
   "metadata": {},
   "outputs": [],
   "source": [
    "# Defining the sector of Hilbert space taken into account. \n",
    "set_target_sectors(['R0:N2:S0']) # 2 particles, total spin 0\n",
    "\n",
    "# Simulation parameters\n",
    "set_parameters(\"\"\"\n",
    "t=1.1\n",
    "tp=0.9\n",
    "U=1e-9\n",
    "mu=0.5*U\n",
    "\"\"\")\n"
   ]
  },
  {
   "cell_type": "markdown",
   "metadata": {},
   "source": [
    "### Non-interacting case $(U\\simeq0)$"
   ]
  },
  {
   "cell_type": "code",
   "execution_count": null,
   "metadata": {},
   "outputs": [],
   "source": [
    "# Instantiating model\n",
    "set_parameter(\"U\", 1e-9) # To make sure correct U is used no matter execution order of cells\n",
    "new_model_instance()\n",
    "\n",
    "# Looking at cluster stats\n",
    "print(f\"Ground state: {ground_state()}\")\n",
    "print(cluster_averages())\n",
    "\n",
    "# Plotting the spectral function\n",
    "spectral_function(path=\"line\") # path=line --> 1D stuff "
   ]
  },
  {
   "cell_type": "markdown",
   "metadata": {},
   "source": [
    "### Interacting case $(U=4)$"
   ]
  },
  {
   "cell_type": "code",
   "execution_count": null,
   "metadata": {},
   "outputs": [],
   "source": [
    "# Setting U=4\n",
    "set_parameter('U', 4)\n",
    "\n",
    "# Creating a new instance with the updated parameter \n",
    "new_model_instance()\n",
    "\n",
    "# The same output as before\n",
    "print(f\"Ground state: {ground_state()}\")\n",
    "print(cluster_averages())\n",
    "spectral_function(path=\"line\")"
   ]
  },
  {
   "cell_type": "markdown",
   "metadata": {},
   "source": [
    "**From the above spectral functions, we can gather that:**\n",
    " - U=0: Small gap around $\\omega = 0$: the dimerization gap. The system is a band insulator at half-filling.\n",
    " - U=4: Considerably larger gap. The system is a Mott insulator, on top of a band insulator."
   ]
  },
  {
   "cell_type": "markdown",
   "metadata": {},
   "source": [
    "**Let us compare with the analytical solution in the non-interacting case:**\n",
    "\n",
    "Remember that:\n",
    "\n",
    "$$t_{\\alpha,\\beta}(k) = \\sum_{\\delta}\\operatorname{e}^{-ik\\cdot\\delta}t_{\\alpha, \\beta}(n,n+\\delta)$$\n",
    "\n",
    "Electrons can only jump between bands and therefore the diagonal is $t_{\\alpha, \\alpha}(k) = 0$. By requiring that $t_{\\alpha, \\beta}(k)$ be hermitian, we only need to calculate explicitely $t_{1,2}(k)$:\n",
    "\n",
    "$$t_{1,2}(k) = t\\operatorname{e}^{-ik} + t'\\operatorname{e}^{ik} ~\\Rightarrow~ t_{2,1}(k) = t\\operatorname{e}^{ik} + t'\\operatorname{e}^{-ik}$$\n",
    "\n",
    "In matrix form:\n",
    "\n",
    "$$t(k) = \\begin{bmatrix}\n",
    "    0 & t\\operatorname{e}^{-ik} + t'\\operatorname{e}^{ik} \\\\\n",
    "    t\\operatorname{e}^{ik} + t'\\operatorname{e}^{-ik} & 0\n",
    "\\end{bmatrix}$$\n",
    "\n",
    "This matrix admits two distinct eigenvalues:\n",
    "$$\n",
    "    \\varepsilon_{\\pm}(k) = \\pm\\sqrt{t^2 + 2tt'\\operatorname{cos}(2k) + (t')^2}\n",
    "$$\n",
    "This is the dispersion function that can be plotted using Matplotlib (see below).\n",
    "\n",
    "A different view would be to treat the two band as occupying the same site, this time with an inter-site distance of 2. In that case the hopping matrix is\n",
    "\n",
    "$$t(k) = \\begin{bmatrix}\n",
    "    0 & t + t'\\operatorname{e}^{2ik} \\\\\n",
    "    t + t'\\operatorname{e}^{-2ik} & 0\n",
    "\\end{bmatrix}$$\n",
    "\n",
    "which leads to the same eigenvalues. The two versions of the hopping matrix only differ by a diagonal unitary transformation."
   ]
  },
  {
   "cell_type": "code",
   "execution_count": null,
   "metadata": {},
   "outputs": [],
   "source": [
    "# Defining the energy eigenvalue function\n",
    "def dispersion(k, t, t_prime):\n",
    "    return np.sqrt( t*t + 2*t*t_prime*np.cos(2*k) + t_prime*t_prime )\n",
    "\n",
    "# Divide by 2 to have the correct Brillouin zone\n",
    "k_grid = np.linspace(-np.pi/2, np.pi/2, 300)\n",
    "\n",
    "fig, ax = plt.subplots()\n",
    "\n",
    "ax.plot(k_grid, dispersion(k_grid, 1.1, 0.9))\n",
    "ax.plot(k_grid, -dispersion(k_grid, 1.1, 0.9))\n",
    "\n",
    "ax.set_xlabel(\"k\")\n",
    "ax.set_ylabel(\"$\\omega$\")\n",
    "\n",
    "ax.set_xticks([-np.pi/2, 0, +np.pi/2])\n",
    "ax.set_xticklabels([\"$-\\pi$\", \"0\", \"$\\pi$\"])\n",
    "\n",
    "ax.set_xlim((-np.pi/2, np.pi/2))\n",
    "\n",
    "fig.show()"
   ]
  },
  {
   "cell_type": "markdown",
   "metadata": {},
   "source": [
    "The solution is identical, as expected."
   ]
  }
 ],
 "metadata": {
  "interpreter": {
   "hash": "d83c2c4acc6798d77f2d508a6925927a980aed8f1b879892c5701a8ab2ff850e"
  },
  "kernelspec": {
   "display_name": "Python 3.9.9 64-bit ('base': conda)",
   "language": "python",
   "name": "python3"
  },
  "language_info": {
   "codemirror_mode": {
    "name": "ipython",
    "version": 3
   },
   "file_extension": ".py",
   "mimetype": "text/x-python",
   "name": "python",
   "nbconvert_exporter": "python",
   "pygments_lexer": "ipython3",
   "version": "3.9.10"
  },
  "orig_nbformat": 4
 },
 "nbformat": 4,
 "nbformat_minor": 2
}
