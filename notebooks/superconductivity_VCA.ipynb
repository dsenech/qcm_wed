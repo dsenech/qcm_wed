{
 "cells": [
  {
   "cell_type": "markdown",
   "metadata": {},
   "source": [
    "# Superconductivity in VCA on a 4-site cluster\n",
    "\n",
    "- Construct a Hubbard model based on a $2\\times2$ cluster where several types of superconductivity are defined:\n",
    "\n",
    "    - On-site, $s$-wave pairing :\n",
    "    $$ \\hat\\Delta = \\sum_\\mathbf{r} ( c_{\\mathbf{r}\\uparrow} c_{\\mathbf{r}\\downarrow} + \\text{H.c})$$\n",
    "\n",
    "    - extended $s$-wave pairing : \n",
    "    $$ \\hat\\Delta = \\sum_\\mathbf{r} \\big[ (c_{\\mathbf{r}\\uparrow} c_{\\mathbf{r}+\\hat{x}\\downarrow} - c_{\\mathbf{r}\\downarrow} c_{\\mathbf{r}+\\hat{x}\\uparrow}) + (c_{\\mathbf{r}\\uparrow} c_{\\mathbf{r}+\\hat{y}\\downarrow} - c_{\\mathbf{r}\\downarrow} c_{\\mathbf{r}+\\hat{y}\\uparrow}) + \\text{H.c}\\big] $$\n",
    "\n",
    "    - singlet, $d_{x^2-y^2}$-wave pairing : \n",
    "    $$ \\hat\\Delta = \\sum_\\mathbf{r} \\big[ (c_{\\mathbf{r}\\uparrow} c_{\\mathbf{r}+\\hat{x}\\downarrow} - c_{\\mathbf{r}\\downarrow} c_{\\mathbf{r}+\\hat{x}\\uparrow}) - (c_{\\mathbf{r}\\uparrow} c_{\\mathbf{r}+\\hat{y}\\downarrow} - c_{\\mathbf{r}\\downarrow} c_{\\mathbf{r}+\\hat{y}\\uparrow}) + \\text{H.c}\\big] $$\n",
    "\n",
    "    - singlet, $d_{xy}$-wave pairing : \n",
    "    $$ \\hat\\Delta = \\sum_\\mathbf{r} \\big[ (c_{\\mathbf{r}\\uparrow} c_{\\mathbf{r}+\\hat{x}+\\hat{y}\\downarrow} - c_{\\mathbf{r}\\downarrow} c_{\\mathbf{r}+\\hat{x}+\\hat{y}\\uparrow}) - (c_{\\mathbf{r}\\uparrow} c_{\\mathbf{r}+\\hat{y}-\\hat{x}\\downarrow} - c_{\\mathbf{r}\\downarrow} c_{\\mathbf{r}+\\hat{y}-\\hat{x}\\uparrow}) + \\text{H.c}\\big] $$\n",
    "\n",
    "    (notation : $\\hat{x}$ and $\\hat{y}$ are the unit lattice vectors in the $x$ and $y$ directions, respectively.)\n",
    "    \n",
    "    \n",
    "- Show how the Potthoff functional $\\Omega$ depends on the superconducting Weiss field for each of the cases defined above.\n",
    "\n",
    "- In the case of $d_{x^2-y^2}$-wave pairing and $U=8$, obtain the VCA solution for a hole-doped system as a function of chemical potential (or doping) for the range of doping where the solution is nontrivial. Plot the superconducting order parameter as a function of doping $x=1-n$, ($n$ begin the electron density).\n",
    "\n"
   ]
  },
  {
   "cell_type": "code",
   "execution_count": null,
   "metadata": {},
   "outputs": [],
   "source": [
    "from pyqcm import *\n",
    "from pyqcm.draw_operator import *\n",
    "from pyqcm.vca import *\n",
    "from pyqcm.loop import controlled_loop\n",
    "\n",
    "import numpy as np\n",
    "\n",
    "import matplotlib.pyplot as plt\n",
    "import matplotlib as mpl"
   ]
  },
  {
   "cell_type": "code",
   "execution_count": null,
   "metadata": {},
   "outputs": [],
   "source": [
    "# Defining a simple 2x2 cluster and inserting into a square-tiled lattice\n",
    "new_cluster_model(\"clus\", 4, 0)\n",
    "add_cluster(\"clus\", [0,0,0], [[0,0,0], [1,0,0], [0,1,0], [1,1,0]])\n",
    "lattice_model(\"2D_2x2\", [[2,0,0],[0,2,0]])"
   ]
  },
  {
   "cell_type": "code",
   "execution_count": null,
   "metadata": {},
   "outputs": [],
   "source": [
    "# Adding the typical Hubbard style operators\n",
    "interaction_operator(\"U\")\n",
    "hopping_operator(\"t\", [1,0,0], -1)\n",
    "hopping_operator(\"t\", [0,1,0], -1)"
   ]
  },
  {
   "cell_type": "markdown",
   "metadata": {},
   "source": [
    "### It is now time to define a few operators representing superconductivity with singlet pairing"
   ]
  },
  {
   "cell_type": "code",
   "execution_count": null,
   "metadata": {},
   "outputs": [],
   "source": [
    "# On-site s-wave\n",
    "anomalous_operator(\"S\", [0,0,0], 1)\n",
    "\n",
    "# Extended s-wave\n",
    "anomalous_operator(\"exS\", [1,0,0], 1)\n",
    "anomalous_operator(\"exS\", [0,1,0], 1)\n",
    "\n",
    "# d_{x^2-y^2}-wave\n",
    "anomalous_operator(\"Dx2-y2\", [1,0,0], 1)\n",
    "anomalous_operator(\"Dx2-y2\", [0,1,0], -1)\n",
    "\n",
    "# d_{xy}-wave, similar as previous wave but defined with \"diagonal\" links\n",
    "anomalous_operator(\"Dxy\", [1,1,0], 1)\n",
    "anomalous_operator(\"Dxy\", [-1,1,0], -1)"
   ]
  },
  {
   "cell_type": "code",
   "execution_count": null,
   "metadata": {},
   "outputs": [],
   "source": [
    "# Defining the appropriate sector of Hilbert space\n",
    "set_target_sectors([\"R0:S0\"])\n",
    "\n",
    "# The first three parameters are used for the graph of the Potthoff functionnal\n",
    "set_parameters(\"\"\"\n",
    "    t=1\n",
    "    U=8\n",
    "    mu=1.2\n",
    "    S_1=1e-9\n",
    "    exS_1=1e-9\n",
    "    Dx2-y2_1=1e-9\n",
    "    Dxy_1=1e-9\n",
    "\"\"\")"
   ]
  },
  {
   "cell_type": "code",
   "execution_count": null,
   "metadata": {},
   "outputs": [],
   "source": [
    "# Generating a grid for the Potthoff functionnals\n",
    "grid_size = 50\n",
    "Delta_grid = np.linspace(0.0, 0.3, grid_size)"
   ]
  },
  {
   "cell_type": "code",
   "execution_count": null,
   "metadata": {},
   "outputs": [],
   "source": [
    "# The different types of superconductivity are explored by plotting the Potthoff functionnal for each variety\n",
    "######################### - On-site s-wave - #########################\n",
    "set_parameter(\"S_1\", 1)\n",
    "set_parameter(\"exS_1\", 1e-9)\n",
    "set_parameter(\"Dx2-y2_1\", 1e-9)\n",
    "set_parameter(\"Dxy_1\", 1e-9)\n",
    "new_model_instance()\n",
    "\n",
    "plot_sef(\"S_1\", Delta_grid)\n",
    "\n",
    "######################### - Extended s-wave - #########################\n",
    "set_parameter(\"S_1\", 1e-9)\n",
    "set_parameter(\"exS_1\", 1)\n",
    "set_parameter(\"Dx2-y2_1\", 1e-9)\n",
    "set_parameter(\"Dxy_1\", 1e-9)\n",
    "new_model_instance()\n",
    "\n",
    "plot_sef(\"exS_1\", Delta_grid)\n",
    "\n",
    "######################### - d_{x^2 - y^2}-wave - #########################\n",
    "\n",
    "set_parameter(\"S_1\", 1e-9)\n",
    "set_parameter(\"exS_1\", 1e-9)\n",
    "set_parameter(\"Dx2-y2_1\", 1)\n",
    "set_parameter(\"Dxy_1\", 1e-9)\n",
    "new_model_instance()\n",
    "\n",
    "plot_sef(\"Dx2-y2_1\", Delta_grid)\n",
    "\n",
    "######################### - d_{xy}-wave - #########################\n",
    "\n",
    "set_parameter(\"S_1\", 1e-9)\n",
    "set_parameter(\"exS_1\", 1e-9)\n",
    "set_parameter(\"Dx2-y2_1\", 1e-9)\n",
    "set_parameter(\"Dxy_1\", 1)\n",
    "new_model_instance()\n",
    "\n",
    "plot_sef(\"Dxy_1\", Delta_grid)"
   ]
  },
  {
   "cell_type": "code",
   "execution_count": null,
   "metadata": {},
   "outputs": [],
   "source": [
    "# Loading the sef.tsv file into an array\n",
    "raw_data = np.genfromtxt(\"./sef.tsv\", delimiter=\"\\t\", usecols=[1])\n",
    "data = raw_data[-4*grid_size-4:] # reading the last 4 sef simulation blocks accounting for the \"omega\" header\n",
    "\n",
    "# Loading each superconducting sef into an array\n",
    "omega_1 = data[1:grid_size+1]\n",
    "omega_2 = data[grid_size+2:2*grid_size+2]\n",
    "omega_3 = data[2*grid_size+3:3*grid_size+3]\n",
    "omega_4 = data[3*grid_size+4:4*grid_size+4]"
   ]
  },
  {
   "cell_type": "code",
   "execution_count": null,
   "metadata": {},
   "outputs": [],
   "source": [
    "# Plotting all Potthoff functionnals in the same graph\n",
    "fig, ax = plt.subplots()\n",
    "\n",
    "ax.plot(Delta_grid, omega_1, label=\"$s$-wave\")\n",
    "ax.plot(Delta_grid, omega_2, label=\"extended $s$-wave\")\n",
    "ax.plot(Delta_grid, omega_3, label=\"$d_{x^2 - y^2}$\")\n",
    "ax.plot(Delta_grid, omega_4, label=\"$d_{xy}$\")\n",
    "\n",
    "ax.set_aspect(5)\n",
    "ax.set_xlim((0.0, 0.3))\n",
    "\n",
    "ax.legend()\n",
    "ax.set_xlabel(\"$\\Delta$\")\n",
    "ax.set_ylabel(\"$\\Omega$\")\n",
    "\n",
    "fig.show()"
   ]
  },
  {
   "cell_type": "markdown",
   "metadata": {},
   "source": [
    "### Interpretation of the Potthoff functionnals\n",
    "\n",
    "As seen in the above plot, the only functionnal that admits a minimum is the one related to $d_{x^2 - y^2}$ superconduction. This implies that it's also the \"appropriate\" form of superconduction for the model we have defined."
   ]
  },
  {
   "cell_type": "code",
   "execution_count": null,
   "metadata": {},
   "outputs": [],
   "source": [
    "# Loop_parameters\n",
    "mu_start = 1.2\n",
    "mu_stop = 2.8\n",
    "mu_step = 0.05"
   ]
  },
  {
   "cell_type": "code",
   "execution_count": null,
   "metadata": {},
   "outputs": [],
   "source": [
    "# Setting parameters for a VCA around d_{x^2-y^2} superconduction\n",
    "set_parameter(\"S_1\", 1e-9)\n",
    "set_parameter(\"exS_1\", 1e-9)\n",
    "set_parameter(\"Dx2-y2_1\", 0.15) # Starting parameter for the VCA\n",
    "set_parameter(\"Dxy_1\", 1e-9)\n",
    "new_model_instance()\n",
    "\n",
    "# Defining a fucntion that runs the appropriate VCA every time func() is called in controlled_loop()\n",
    "def run_vca():\n",
    "    vca(names=[\"Dx2-y2_1\"], steps=[0.01], accur=[2e-3], max=[100], max_iter=60)\n",
    "\n",
    "controlled_loop(func=run_vca, varia=[\"Dx2-y2_1\"], loop_param=\"mu\", loop_range=(mu_start, mu_stop, mu_step))"
   ]
  },
  {
   "cell_type": "code",
   "execution_count": null,
   "metadata": {},
   "outputs": [],
   "source": [
    "# Creating a grid for the plot\n",
    "mu_grid = np.arange(mu_start, mu_stop, mu_step)\n",
    "\n",
    "# Loading the vca.tsv file into an array\n",
    "raw_vca_data = np.genfromtxt(\"./vca.tsv\", delimiter=\"\\t\", usecols=[3, 10, 12])\n",
    "vca_data = raw_vca_data[-len(mu_grid):] # loading the appropriate VCA simulations (last N corresponding to controlled_loop)\n"
   ]
  },
  {
   "cell_type": "code",
   "execution_count": null,
   "metadata": {},
   "outputs": [],
   "source": [
    "fig, ax = plt.subplots()\n",
    "\n",
    "ax.plot(1-vca_data[:,1], vca_data[:,0], 'o', markersize=2, label=\"$\\Delta$\")\n",
    "ax.plot(1-vca_data[:,1], vca_data[:,2], 'o', markersize=2, label=\"$\\langle\\Delta\\\\rangle$\")\n",
    "\n",
    "ax.set_xlabel(\"$1-n$\")\n",
    "ax.set_ylabel(\"$\\langle\\hat\\Delta\\rangle$\")\n",
    "\n",
    "ax.legend()\n",
    "\n",
    "fig.show()\n"
   ]
  },
  {
   "cell_type": "markdown",
   "metadata": {},
   "source": [
    "### Conclusion\n",
    "\n",
    "We can see that the most superconduction is observed for a hole density of $\\approx0.095$"
   ]
  }
 ],
 "metadata": {
  "interpreter": {
   "hash": "7ebba22d4926039ff239339cf567af8b303e0a244d82717597cfd7af2af74d26"
  },
  "kernelspec": {
   "display_name": "Python 3.8.10 64-bit",
   "language": "python",
   "name": "python3"
  },
  "language_info": {
   "codemirror_mode": {
    "name": "ipython",
    "version": 3
   },
   "file_extension": ".py",
   "mimetype": "text/x-python",
   "name": "python",
   "nbconvert_exporter": "python",
   "pygments_lexer": "ipython3",
   "version": "3.9.10"
  },
  "orig_nbformat": 4
 },
 "nbformat": 4,
 "nbformat_minor": 2
}
