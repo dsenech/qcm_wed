{
 "cells": [
  {
   "cell_type": "markdown",
   "metadata": {},
   "source": [
    "## Simple model in 2 dimensions with a 4-site cluster"
   ]
  },
  {
   "cell_type": "code",
   "execution_count": null,
   "metadata": {},
   "outputs": [],
   "source": [
    "from pyqcm import *\n",
    "\n",
    "new_cluster_model('clus', 4, 0)  # peut-être nombre de bains (ici = 0) devrait être nul par défaut\n",
    "add_cluster('clus', [0,0,0], [[0,0,0], [1,0,0], [0,1,0],[1,1,0]]) # peut-être que l'origine [0,0,0] pourrait être [0,0,0] par défaut\n",
    "lattice_model('2x2', [[2,0,0], [0,2,0]])\n",
    "\n",
    "interaction_operator('U')\n",
    "hopping_operator('t', [1,0,0], -1)\n",
    "hopping_operator('t', [0,1,0], -1)\n",
    "hopping_operator('tp', [1,1,0], -1)\n",
    "hopping_operator('tp', [-1,1,0], -1)\n",
    "\n",
    "from pyqcm.draw_operator import *\n",
    "draw_operator( 't')"
   ]
  },
  {
   "cell_type": "code",
   "execution_count": null,
   "metadata": {},
   "outputs": [],
   "source": [
    "set_target_sectors(['R0:N4:S0'])\n",
    "set_parameters(\"\"\"\n",
    "t=1\n",
    "U=1e-9\n",
    "mu=0\n",
    "\"\"\")"
   ]
  },
  {
   "cell_type": "code",
   "execution_count": null,
   "metadata": {},
   "outputs": [],
   "source": [
    "set_parameter('U', 2)\n",
    "set_parameter('mu', 1)\n",
    "new_model_instance()\n",
    "ground_state()\n",
    "cluster_averages()\n",
    "\n",
    "from pyqcm.spectral import *\n",
    "SF = cluster_spectral_function()  # vérifier la sortie de cette fonction"
   ]
  },
  {
   "cell_type": "code",
   "execution_count": null,
   "metadata": {},
   "outputs": [],
   "source": [
    "set_parameter('U', 4)\n",
    "set_parameter('mu', 2)\n",
    "new_model_instance()\n",
    "spectral_function(wmax = 6, eta=0.03, path='triangle')"
   ]
  },
  {
   "cell_type": "code",
   "execution_count": null,
   "metadata": {},
   "outputs": [],
   "source": [
    "mdc(eta=0.05)"
   ]
  },
  {
   "cell_type": "code",
   "execution_count": null,
   "metadata": {},
   "outputs": [],
   "source": [
    "plot_dispersion()"
   ]
  },
  {
   "cell_type": "code",
   "execution_count": null,
   "metadata": {},
   "outputs": [],
   "source": [
    "spectral_function(wmax = 6, path='triangle')"
   ]
  },
  {
   "cell_type": "markdown",
   "metadata": {},
   "source": []
  }
 ],
 "metadata": {
  "interpreter": {
   "hash": "aee8b7b246df8f9039afb4144a1f6fd8d2ca17a180786b69acc140d282b71a49"
  },
  "kernelspec": {
   "display_name": "Python 3.9.4 64-bit",
   "language": "python",
   "name": "python3"
  },
  "language_info": {
   "codemirror_mode": {
    "name": "ipython",
    "version": 3
   },
   "file_extension": ".py",
   "mimetype": "text/x-python",
   "name": "python",
   "nbconvert_exporter": "python",
   "pygments_lexer": "ipython3",
   "version": "3.9.10"
  },
  "orig_nbformat": 4
 },
 "nbformat": 4,
 "nbformat_minor": 2
}
