{
 "cells": [
  {
   "cell_type": "markdown",
   "metadata": {},
   "source": [
    "# Rashba coupling\n",
    "\n",
    "Construct a one-dimensional Hubbard model with the following non-interacting Hamiltonian, here expressed in $k$-space:\n",
    "$$\n",
    "    H_0 = \\sum_k \\mathcal{H}_k  ~~~~~ \\mathcal{H}_k = -2t\\cos k\\;c^\\dagger_k c_k - 2m \\sin k\\;c^\\dagger_k \\sigma_x c_k\n",
    "$$\n",
    "where $c_k$ is a two-component annihilation operator in spin space : $(c_{k,\\uparrow}, c_{k,\\downarrow})$ and $\\sigma_x$ is a Pauli matrix.\n",
    "Plot the non-interacting $\\left(U=0\\right)$ dispersion of this model as a function of $k$ in the interval $[-\\pi,\\pi]$ for $t=1$ and $m=0.2$ and check that it agrees with your analytical computation."
   ]
  },
  {
   "cell_type": "code",
   "execution_count": null,
   "metadata": {},
   "outputs": [],
   "source": [
    "from pyqcm import *\n",
    "from pyqcm.spectral import *\n",
    "\n",
    "import numpy as np\n",
    "\n",
    "import matplotlib.pyplot as plt\n",
    "import matplotlib as mpl"
   ]
  },
  {
   "cell_type": "code",
   "execution_count": null,
   "metadata": {},
   "outputs": [],
   "source": [
    "# Defining a simple 4 site 1D lattice model\n",
    "new_cluster_model('L4', 4, 0)\n",
    "add_cluster('L4', [0, 0, 0], [[0, 0, 0], [1, 0, 0], [2, 0, 0], [3, 0, 0]])\n",
    "lattice_model('1D_L4', [[4, 0, 0]])"
   ]
  },
  {
   "cell_type": "code",
   "execution_count": null,
   "metadata": {},
   "outputs": [],
   "source": [
    "# Typical Hubbard model operators\n",
    "# interaction_operator(\"U\")\n",
    "hopping_operator(\"t\", [1,0,0], -1)\n",
    "\n",
    "# Defining the one-body Rashba coupling term\n",
    "hopping_operator(\"m\", [1,0,0], -1, tau=2, sigma=1) # tau=2 ---> imaginary contribution ensures sin(k), sigma=1 ---> Ensures spin flip"
   ]
  },
  {
   "cell_type": "code",
   "execution_count": null,
   "metadata": {},
   "outputs": [],
   "source": [
    "set_target_sectors([\"R0:N4\"]) # IMPORTANT : Spin isn't conserved due to spin-flipping in the Rashba term\n",
    "\n",
    "# Simple parameter set\n",
    "set_parameters(\"\"\"\n",
    "    t=1\n",
    "    m=0.2\n",
    "\"\"\")"
   ]
  },
  {
   "cell_type": "code",
   "execution_count": null,
   "metadata": {},
   "outputs": [],
   "source": [
    "# Plotting the spectral function\n",
    "new_model_instance()\n",
    "spectral_function(path=\"line\", band=1)"
   ]
  },
  {
   "cell_type": "markdown",
   "metadata": {},
   "source": [
    "### Interpretation\n",
    "\n",
    "As we can see, the addition of the Rashba coupling term to the kinetic hamilonian creates two energy levels instead of one.\n",
    "\n",
    "### \"Manual\" energy eigenvalues\n",
    "\n",
    "First, consider the following definition for the hamiltonian with Rashba coupling:\n",
    "$$\n",
    "    H_0 = \\sum_{k}\\mathcal{H}_k ~~,~~ \\mathcal{H}_k = -2t\\operatorname{cos}(k)c_k^\\dagger c_k -2t\\operatorname{sin}(k)c_k^\\dagger\\sigma_x c_k~~,~~ \n",
    "    c_k\\equiv \\begin{pmatrix}\n",
    "        c_{k\\uparrow} \\\\\n",
    "        c_{k\\downarrow}\n",
    "    \\end{pmatrix} \\Rightarrow \n",
    "    c_k^\\dagger = \\begin{pmatrix}\n",
    "        c_{k\\uparrow}^\\dagger &\n",
    "        c_{k\\downarrow}^\\dagger\n",
    "    \\end{pmatrix}\n",
    "$$\n",
    "With these definitions, \n",
    "$$\n",
    "    \\mathcal{H}_k = -2t\\operatorname{cos}(k)\\left[ c_{k\\uparrow}^\\dagger c_{k\\uparrow} + c_{k\\downarrow}^\\dagger c_{k\\downarrow} \\right] -2t\\operatorname{sin}(k)\\left[ c_{k\\uparrow}^\\dagger c_{k\\downarrow} + c_{k\\downarrow}^\\dagger c_{k\\uparrow} \\right]\n",
    "$$\n",
    "Or more interestingly,\n",
    "$$\n",
    "    \\mathcal{H}_k = c_k^\\dagger\n",
    "    \\underbrace{\\begin{pmatrix}\n",
    "        -2t\\operatorname{cos}(k) & -2m\\operatorname{sin}(k) \\\\\n",
    "        -2m\\operatorname{sin}(k) & -2t\\operatorname{cos}(k) \n",
    "    \\end{pmatrix}}_{M}\n",
    "    c_k\n",
    "$$\n",
    "Finding the eigenvalues of $M$ is trivial:\n",
    "$$\n",
    "    \\varepsilon(k) = -2t\\operatorname{cos}(k) \\pm 2m\\operatorname{sin}(k) = 2\\left[ -t\\operatorname{cos}(k) \\pm m\\operatorname{sin}(k) \\right]\n",
    "$$\n",
    "Plotting these should yield the same result as the numerical computations above.\n"
   ]
  },
  {
   "cell_type": "code",
   "execution_count": null,
   "metadata": {},
   "outputs": [],
   "source": [
    "# creating a grid of wavevectors in the Brillouin zone\n",
    "k_grid = np.linspace(-np.pi, np.pi, 150)\n",
    "\n",
    "t=1 # value of the hopping operator\n",
    "m=0.2 # value of the coupling term\n",
    "\n",
    "\n",
    "# Defining the energy eigenvalues found by hand\n",
    "def eig_1(k, t, m):\n",
    "    return -2*(t*np.cos(k) + m*np.sin(k))\n",
    "\n",
    "def eig_2(k, t, m):\n",
    "    return -2*(t*np.cos(k) - m*np.sin(k))"
   ]
  },
  {
   "cell_type": "code",
   "execution_count": null,
   "metadata": {},
   "outputs": [],
   "source": [
    "# Plotting the analytic dispersion curve\n",
    "fig, ax = plt.subplots()\n",
    "\n",
    "ax.plot(k_grid, eig_1(k_grid, t, m), label=\"$\\epsilon_1(k)$\")\n",
    "ax.plot(k_grid, eig_2(k_grid, t, m), label=\"$\\epsilon_2(k)$\")\n",
    "\n",
    "ax.set_xlabel(\"k\")\n",
    "ax.set_ylabel(\"$\\epsilon(k)$\")\n",
    "\n",
    "ax.set_xticks((-np.pi,0,np.pi))\n",
    "ax.set_xticklabels((\"$-\\pi$\",\"$0$\",\"$-\\pi$\"))\n",
    "\n",
    "ax.legend()\n",
    "\n",
    "fig.show()"
   ]
  }
 ],
 "metadata": {
  "interpreter": {
   "hash": "7ebba22d4926039ff239339cf567af8b303e0a244d82717597cfd7af2af74d26"
  },
  "kernelspec": {
   "display_name": "Python 3.8.10 64-bit",
   "language": "python",
   "name": "python3"
  },
  "language_info": {
   "codemirror_mode": {
    "name": "ipython",
    "version": 3
   },
   "file_extension": ".py",
   "mimetype": "text/x-python",
   "name": "python",
   "nbconvert_exporter": "python",
   "pygments_lexer": "ipython3",
   "version": "3.9.10"
  },
  "orig_nbformat": 4
 },
 "nbformat": 4,
 "nbformat_minor": 2
}
