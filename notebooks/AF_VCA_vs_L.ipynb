{
 "cells": [
  {
   "cell_type": "markdown",
   "metadata": {},
   "source": [
    "# Antiferromagnetism with various cluster sizes\n",
    "\n",
    "- Construct several clusters to study the simple Hubbard model in two dimension, with sizes 2, 4, 6, 8 and 10, with the most symmetric shape possible and appropriate superlattices. Arrange the clusters in a way that a study of Néel antiferromagnetism is possible, i.e., respect the bipartite character of the square lattice in the tiling.\n",
    "- For each of these models, perform a VCA analysis of antiferromagnetism at half-filling for $U=8$ and $t=1$. How does the Weiss field change according to cluster size?\n",
    "- Warning : the kernel must be reinitialized between different runs as they are based on different models"
   ]
  },
  {
   "cell_type": "code",
   "execution_count": 1,
   "metadata": {},
   "outputs": [
    {
     "name": "stdout",
     "output_type": "stream",
     "text": [
      "Number of OpenMP threads = 4\n"
     ]
    }
   ],
   "source": [
    "from pyqcm import *\n",
    "from pyqcm.vca import *\n",
    "import numpy as np\n",
    "\n",
    "import matplotlib.pyplot as plt\n",
    "import matplotlib as mpl\n",
    "mpl.rcParams[\"figure.dpi\"] = 125\n",
    "\n",
    "def create_model(L):\n",
    "    \"\"\"\n",
    "    param L : length of the cluster (L x 2)\n",
    "    \"\"\"\n",
    "\n",
    "    new_cluster_model('clus'.format(L), 2*L, 0)\n",
    "    sites = [[i,0,0] for i in range(L)] + [[i,1,0] for i in range(L)]\n",
    "    add_cluster('clus', [0,0,0], sites)\n",
    "    lattice_model('{:d}x2_AFM'.format(L), [[L, L%2, 0], [0, 2, 0]])\n",
    "    hopping_operator('t', [1,0,0], -1)\n",
    "    hopping_operator('t', [0,1,0], -1)\n",
    "    interaction_operator('U')\n",
    "    density_wave('M', 'Z', [1,1,0])\n",
    "    set_target_sectors(['R0:N{:d}:S0'.format(2*L)])"
   ]
  },
  {
   "cell_type": "code",
   "execution_count": 2,
   "metadata": {},
   "outputs": [
    {
     "name": "stdout",
     "output_type": "stream",
     "text": [
      "******************************** VCA procedure ********************************\n",
      "M_1       =  0.1400\t\n",
      "x =  [ 0.14]\n",
      "x =  [ 0.19]\n",
      "x =  [ 0.09]\n",
      "QN iteration no  1 \t x =  [ 0.156406]\n",
      "x =  [ 0.156406]\n",
      "x =  [ 0.172811]\n",
      "x =  [ 0.14]\n",
      "QN iteration no  2 \t x =  [ 0.153208]\n",
      "x =  [ 0.153208]\n",
      "x =  [ 0.156406]\n",
      "x =  [ 0.150011]\n",
      "QN iteration no  3 \t x =  [ 0.148491]\n",
      "x =  [ 0.148491]\n",
      "x =  [ 0.153208]\n",
      "x =  [ 0.143774]\n",
      "QN iteration no  4 \t x =  [ 0.149966]\n",
      "x =  [ 0.149966]\n",
      "x =  [ 0.15144]\n",
      "x =  [ 0.148491]\n",
      "QN iteration no  5 \t x =  [ 0.149871]\n",
      "convergence on position after  5  iterations\n",
      "x =  [ 0.149871]\n",
      "saddle point =  [ 0.149871]\n",
      "gradient =  [ 0.000068]\n",
      "second derivatives : [ 0.725166]\n",
      "computing properties of converged solution...\n",
      "omega =  -4.500951147503465\n",
      "****************************** VCA ended normally ******************************\n"
     ]
    },
    {
     "data": {
      "text/plain": [
       "(array([ 0.149871]), array([ 0.725166]))"
      ]
     },
     "execution_count": 2,
     "metadata": {},
     "output_type": "execute_result"
    }
   ],
   "source": [
    "L = 4 # length of cluster\n",
    "create_model(L)\n",
    "# Setting model parameters\n",
    "set_parameters(\"\"\"\n",
    "    U = 8\n",
    "    mu = 0.5*U\n",
    "    t = 1\n",
    "    M = 0\n",
    "    M_1 = 0.1\n",
    "\"\"\")\n",
    "\n",
    "# Running the VCA\n",
    "vca(names='M_1', start=0.14, steps=0.05, accur=2e-4, max=10.0, file = 'vca_L{:d}.tsv'.format(L)) "
   ]
  },
  {
   "cell_type": "markdown",
   "metadata": {},
   "source": [
    "### Interpretation\n",
    "\n",
    "As the number of sites in a cluster grows, the Weiss field defined on the cluster required to generate AFM effects reduces as the numerical value gets more and more realistic. (But longer to calculate!)"
   ]
  }
 ],
 "metadata": {
  "interpreter": {
   "hash": "7ebba22d4926039ff239339cf567af8b303e0a244d82717597cfd7af2af74d26"
  },
  "kernelspec": {
   "display_name": "Python 3.8.10 64-bit",
   "language": "python",
   "name": "python3"
  },
  "language_info": {
   "codemirror_mode": {
    "name": "ipython",
    "version": 3
   },
   "file_extension": ".py",
   "mimetype": "text/x-python",
   "name": "python",
   "nbconvert_exporter": "python",
   "pygments_lexer": "ipython3",
   "version": "3.9.10"
  },
  "orig_nbformat": 4
 },
 "nbformat": 4,
 "nbformat_minor": 2
}
