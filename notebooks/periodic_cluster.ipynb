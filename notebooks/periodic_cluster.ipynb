{
 "cells": [
  {
   "cell_type": "markdown",
   "metadata": {},
   "source": [
    "# Periodic cluster\n",
    "\n",
    "Define a simple nearest-neighbor, half-filled Hubbard model with a periodic cluster of length 12 in dimension 1. Make use of translation symmetry. For each value of the 12 possible values of crystal momentum in this system, compute the ground state energy of the cluster for $U=0$ and $U=4$. This problem concerns the cluster only and makes no use of CPT or other quantum cluster methods."
   ]
  },
  {
   "cell_type": "code",
   "execution_count": 1,
   "metadata": {},
   "outputs": [
    {
     "name": "stdout",
     "output_type": "stream",
     "text": [
      "Number of OpenMP threads = 4\n"
     ]
    }
   ],
   "source": [
    "from pyqcm import *\n",
    "from pyqcm.spectral import *\n",
    "import numpy as np\n",
    "\n",
    "import matplotlib.pyplot as plt\n",
    "import matplotlib as mpl"
   ]
  },
  {
   "cell_type": "code",
   "execution_count": 2,
   "metadata": {},
   "outputs": [
    {
     "name": "stdout",
     "output_type": "stream",
     "text": [
      "global parameter periodic set to true\n"
     ]
    }
   ],
   "source": [
    "################## - Decide whether to use symmetry or not - ##################\n",
    "###############################################################################\n",
    "\n",
    "USE_CLUSTER_SYMMETRY = True\n",
    "\n",
    "###############################################################################\n",
    "\n",
    "# Defining the cluster model according to whether symmetry is used\n",
    "if USE_CLUSTER_SYMMETRY:\n",
    "    set_global_parameter(\"periodic\") # sets the global parameter `periodic` to true\n",
    "    new_cluster_model(\"clus\", 12, 0, [[12, 1, 2, 3, 4, 5, 6, 7, 8, 9, 10, 11]]) # defines the cluster with a translationnal symmetry generator        \n",
    "else:\n",
    "    new_cluster_model(\"clus\", 12, 0) # defines a cluster with no symmetry generators\n",
    "\n",
    "# Simply placing 12 sites in a straight line with even spacing\n",
    "add_cluster(\"clus\", [0,0,0], [[i,0,0] for i in range(12)])\n",
    "lattice_model(\"12sites\", [[12,0,0]])\n",
    "\n",
    "# Defining the classical Hubbard operators\n",
    "hopping_operator(\"t\", [1,0,0], -1)\n",
    "interaction_operator(\"U\")"
   ]
  },
  {
   "cell_type": "code",
   "execution_count": 3,
   "metadata": {},
   "outputs": [
    {
     "data": {
      "text/plain": [
       "[('t', 1.0), ('U', 1e-09), ('mu', 0.5, 'U')]"
      ]
     },
     "execution_count": 3,
     "metadata": {},
     "output_type": "execute_result"
    }
   ],
   "source": [
    "# Setting parameters\n",
    "wavevector_no = 1\n",
    "set_target_sectors([f\"R{wavevector_no}:N12:S0\"]) \n",
    "set_parameters(\"\"\"\n",
    "    t=1\n",
    "    U=1e-9\n",
    "    mu=0.5*U\n",
    "\"\"\")"
   ]
  },
  {
   "cell_type": "code",
   "execution_count": 4,
   "metadata": {},
   "outputs": [
    {
     "name": "stdout",
     "output_type": "stream",
     "text": [
      "U=0 --> (-13.928203233442195, 'R1:N12:S0:1')\n",
      "U=4 --> (-30.084996055549453, 'R1:N12:S0:1')\n"
     ]
    }
   ],
   "source": [
    "set_parameter(\"U\", 1e-9)\n",
    "new_model_instance()\n",
    "print(f\"U=0 --> {ground_state()[0]}\")\n",
    "\n",
    "set_parameter(\"U\", 4)\n",
    "new_model_instance()\n",
    "print(f\"U=4 --> {ground_state()[0]}\")"
   ]
  },
  {
   "cell_type": "markdown",
   "metadata": {},
   "source": [
    "### No translation symmetry (calc time ~30sec)\n",
    "\n",
    "U=0 ---> [(-14.592459624117517, 'R0:N12:S0:1')]\n",
    "\n",
    "U=4 ---> [(-30.52624338445453, 'R0:N12:S0:1')]"
   ]
  },
  {
   "cell_type": "markdown",
   "metadata": {},
   "source": [
    "### Translation Symmetry (calc time ~5sec)\n",
    "U=0 ---> [(-14.928203233358845, 'R0:N12:S0:1')]\n",
    "\n",
    "U=4 ---> [(-30.670141145792602, 'R0:N12:S0:1')]"
   ]
  }
 ],
 "metadata": {
  "interpreter": {
   "hash": "7ebba22d4926039ff239339cf567af8b303e0a244d82717597cfd7af2af74d26"
  },
  "kernelspec": {
   "display_name": "Python 3.8.10 64-bit",
   "language": "python",
   "name": "python3"
  },
  "language_info": {
   "codemirror_mode": {
    "name": "ipython",
    "version": 3
   },
   "file_extension": ".py",
   "mimetype": "text/x-python",
   "name": "python",
   "nbconvert_exporter": "python",
   "pygments_lexer": "ipython3",
   "version": "3.9.10"
  },
  "orig_nbformat": 4
 },
 "nbformat": 4,
 "nbformat_minor": 2
}
